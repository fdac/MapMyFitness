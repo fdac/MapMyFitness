{
 "metadata": {
  "name": "",
  "signature": "sha256:e98571423b26819bf05ed81842347c655abcc30ba700b2511fdbab2552a8e2bb"
 },
 "nbformat": 3,
 "nbformat_minor": 0,
 "worksheets": [
  {
   "cells": [
    {
     "cell_type": "markdown",
     "metadata": {},
     "source": [
      "## An Example of how to export from MongoDB to disk"
     ]
    },
    {
     "cell_type": "code",
     "collapsed": false,
     "input": [
      "import re\n",
      "import pymongo, json\n",
      "import envoy\n",
      "\n",
      "client = pymongo.MongoClient (host=\"da0.eecs.utk.edu\")\n",
      "\n",
      "# Get a reference to a particular database\n",
      "db = client ['strava']\n",
      "# Reference a particular collection in the database\n",
      "coll = db ['activities']"
     ],
     "language": "python",
     "metadata": {},
     "outputs": [],
     "prompt_number": 2
    },
    {
     "cell_type": "code",
     "collapsed": false,
     "input": [
      "#findHarry = re.compile(\"harry collingwood\", re.IGNORECASE)\n",
      "#cursor = coll.find( { 'name' :findHarry }, { 'name': 1 } )\n",
      "#see the schema\n",
      "cursor = coll.find( {\"values\":{\"$exists\": 1}},{\"values\":1})\n",
      "i = 0\n",
      "for result in cursor:\n",
      "    print result[\"values\"]\n",
      "    i+=1\n",
      "    if i>= 6: break"
     ],
     "language": "python",
     "metadata": {},
     "outputs": [
      {
       "output_type": "stream",
       "stream": "stdout",
       "text": [
        "{u'athlete_count': 1, u'trainer': False, u'average_watts': 198.8, u'start_date_local': u'2008-04-12T02:00:00Z', u'private': False, u'commute': False, u'device_watts': False, u'timezone': u'(GMT+01:00) Europe/Paris', u'id': 178, u'location_city': u'Fontaine De Vaucluse', u'location_country': u'France', u'start_longitude': 5.13, u'average_speed': 7.32, u'elapsed_time': 1708, u'kudos_count': 8, u'comment_count': 0, u'type': u'Ride', u'start_date': u'2008-04-12T00:00:00Z', u'map': {u'resource_state': 2, u'id': u'a178', u'summary_polyline': u'iz_kG{oh^t`@`D`F{@jFjJd]|VdG`AzIwC~OrA`Hgh@|BeEeAeOtDyCtFrA~FaChCyPA_EmI_HzGwBrBuSoBmIYsUsC_Hj@_DkAyOjJkMtIeXj@eHgAsUzA{JjEeFnIhAuKqr@gKkc@mHkL}IqUgKgL{M{GoLsBeGkI_MiHi@uB`C{K{J{QeG_G{VsADmG|Gr@vDkDzDqQfOw^'}, u'kilojoules': 339.6, u'distance': 12502.1, u'achievement_count': 0, u'moving_time': 1708, u'start_latlng': [43.91, 5.13], u'max_speed': 15.594, u'gear_id': u'b2', u'has_kudoed': False, u'photo_count': 0, u'location_state': u\"Provence-Alpes-C\\xf4te d'Azur\", u'name': u'Ride From Fountain de Valcluse', u'total_elevation_gain': 314.4, u'athlete': {u'profile': u'http://dgalywyr863hv.cloudfront.net/pictures/athletes/7/16440/1/large.jpg', u'city': u'Norwich', u'premium': True, u'firstname': u'Davis', u'state': u'Vermont', u'lastname': u'Kitchel', u'created_at': u'2008-01-01T17:44:00Z', u'updated_at': u'2014-11-25T00:44:10Z', u'sex': u'M', u'badge_type_id': 4, u'follower': None, u'country': u'United States', u'resource_state': 2, u'profile_medium': u'http://dgalywyr863hv.cloudfront.net/pictures/athletes/7/16440/1/medium.jpg', u'id': 7, u'friend': None}, u'manual': False, u'start_latitude': 43.91, u'upload_id': 22, u'resource_state': 2, u'end_latlng': [43.9, 5.21], u'external_id': None, u'flagged': False}\n",
        "{u'athlete_count': 1, u'trainer': False, u'average_watts': 121.3, u'start_date_local': u'2008-04-11T17:00:00Z', u'private': False, u'commute': False, u'device_watts': False, u'timezone': u'(GMT-08:00) America/Los_Angeles', u'id': 183, u'location_city': u'Palo Alto', u'location_country': None, u'start_longitude': -122.31, u'average_speed': 4.005, u'elapsed_time': 6241, u'kudos_count': 3, u'comment_count': 0, u'type': u'Ride', u'start_date': u'2008-04-12T00:00:00Z', u'map': {u'resource_state': 2, u'id': u'a183', u'summary_polyline': u'cyicFzzniV{E~CfEf@oFzE~HnP{@rItDz@?bG`G_IzEnFz@fTvBoPgTwV?_IvV_IvB_S~HfEvB{EcGsDnAwGvQoF~Mkk@~MvBhJkH`VrS~CrSjWrD_NnFnFrN{EjCSzJsDvBf@~HuBz@aDoK{Oz@mFcG}@_NkCnFvBoFcBf@?sDvBvB}CjCx@nFsNRoAjCtD?}JvBbBjH{JgEnAgJ~Cf@{@_ItDwB}YsDbLsIdB_S}JbGoPjW{JzY_IvBsIgJ'}, u'kilojoules': 435.3, u'distance': 14371.7, u'achievement_count': 0, u'moving_time': 3588, u'start_latlng': [37.41, -122.31], u'max_speed': 13.146, u'gear_id': u'b9', u'has_kudoed': False, u'photo_count': 0, u'location_state': u'CA', u'name': u'Skeggs Pt. - Sierra Morena to Blue Blossom', u'total_elevation_gain': 578.7, u'athlete': {u'profile': u'http://dgalywyr863hv.cloudfront.net/pictures/athletes/8/851/1/large.jpg', u'city': u'San Francisco', u'premium': True, u'firstname': u'David', u'state': u'CA', u'lastname': u'Belden', u'created_at': u'2009-08-18T00:46:20Z', u'updated_at': u'2014-11-24T06:44:28Z', u'sex': u'M', u'badge_type_id': 2, u'follower': None, u'country': u'United States', u'resource_state': 2, u'profile_medium': u'http://dgalywyr863hv.cloudfront.net/pictures/athletes/8/851/1/medium.jpg', u'id': 8, u'friend': None}, u'manual': False, u'start_latitude': 37.41, u'upload_id': 18, u'resource_state': 2, u'end_latlng': [37.41, -122.31], u'external_id': None, u'flagged': False}\n",
        "{u'athlete_count': 1, u'trainer': False, u'average_watts': 127.1, u'start_date_local': u'2008-04-04T17:00:00Z', u'private': False, u'commute': False, u'device_watts': False, u'timezone': u'(GMT-08:00) America/Los_Angeles', u'id': 206, u'location_city': u'Seaside', u'location_country': None, u'start_longitude': -121.75, u'average_speed': 3.93, u'elapsed_time': 9960, u'kudos_count': 0, u'comment_count': 0, u'type': u'Ride', u'start_date': u'2008-04-05T00:00:00Z', u'map': {u'resource_state': 2, u'id': u'a206', u'summary_polyline': u'cng~EbsbfViWzEf@wQtLjC{_B{Ood@kp@we@jHsSkHq{@fT}Tw[cBfJcQwVgJvGgOw~@nA{O~WjM{@sIjMoKoFg@g@kMjR~CoFRhJvB?zYlUzJ?_]pKsN`LvG~Rja@zObBnKvQjRsI_]_ShOkCP_SeJ{E}Owo@o_@fTgTo_@fJoF{@{OgOcLcBfTkRbBvG{OtDz@|CcQhOg@}@sSzJjWnKkHrNj\\\\nPf@vL~dAzJbLoAzOnPrD|Y{YbGrNqFvV~k@zaA~k@jz@rg@bG_DbBz@fJ'}, u'kilojoules': 1055.2, u'distance': 32636.3, u'achievement_count': 0, u'moving_time': 8304, u'start_latlng': [36.58, -121.75], u'max_speed': 13.982, u'gear_id': u'b7', u'has_kudoed': False, u'photo_count': 0, u'max_heartrate': 150.0, u'location_state': u'CA', u'name': u'Sea Otter Classic course pre-ride', u'total_elevation_gain': 1040.6, u'athlete': {u'profile': u'http://dgalywyr863hv.cloudfront.net/pictures/athletes/8/851/1/large.jpg', u'city': u'San Francisco', u'premium': True, u'firstname': u'David', u'state': u'CA', u'lastname': u'Belden', u'created_at': u'2009-08-18T00:46:20Z', u'updated_at': u'2014-11-24T06:44:28Z', u'sex': u'M', u'badge_type_id': 2, u'follower': None, u'country': u'United States', u'resource_state': 2, u'profile_medium': u'http://dgalywyr863hv.cloudfront.net/pictures/athletes/8/851/1/medium.jpg', u'id': 8, u'friend': None}, u'manual': False, u'start_latitude': 36.58, u'average_heartrate': 116.5, u'upload_id': 11, u'resource_state': 2, u'end_latlng': [36.58, -121.75], u'external_id': None, u'flagged': False}\n",
        "{u'athlete_count': 1, u'trainer': False, u'average_watts': 125.9, u'start_date_local': u'2008-04-05T17:00:00Z', u'private': False, u'commute': False, u'device_watts': False, u'timezone': u'(GMT-08:00) America/Los_Angeles', u'id': 207, u'location_city': u'Aptos', u'location_country': None, u'start_longitude': -121.86, u'average_speed': 3.489, u'elapsed_time': 10605, u'kudos_count': 1, u'comment_count': 0, u'type': u'Ride', u'start_date': u'2008-04-06T00:00:00Z', u'map': {u'resource_state': 2, u'id': u'a207', u'summary_polyline': u'mojaFn_xfVtVcy@vVc[bLw`@jMkHrD_NfJkCbQgh@vBbLvGbBf@jHwLbQkH~WzOwBvBrDzEcGvLvBxB{EdJ?gOrSgEvVz@zOgOrIkRgJnAvLoFrDQfJhCzEsIz@}H~MsI~CqAzYsNvLwGrSbBnUzEfJwBzO{EnFy@rNhRzJ?fEdQnFlFrNkCvBjC~H?nKoK~\\\\pFrD|CbQmFbQlFr]oAzEgJS_NzJoKrSoFsNSkMcBkCy@bG}ESz@{JkM_S|@oPjHgOiJbBwQgTvBw[mK~C}EsIjCsIsDoFrI{Of@wLkCkCrIwVg@wVjMw`@nPs~AvGcVyJfOy[faAwLbLbBbB_DbQ'}, u'kilojoules': 997.4, u'distance': 27641.1, u'achievement_count': 0, u'moving_time': 7923, u'start_latlng': [37.09, -121.86], u'max_speed': 11.505, u'gear_id': u'b7', u'has_kudoed': False, u'photo_count': 0, u'max_heartrate': 143.0, u'location_state': u'CA', u'name': u'Soquel Demo Forest - Saw Pit Loop', u'total_elevation_gain': 926.2, u'athlete': {u'profile': u'http://dgalywyr863hv.cloudfront.net/pictures/athletes/8/851/1/large.jpg', u'city': u'San Francisco', u'premium': True, u'firstname': u'David', u'state': u'CA', u'lastname': u'Belden', u'created_at': u'2009-08-18T00:46:20Z', u'updated_at': u'2014-11-24T06:44:28Z', u'sex': u'M', u'badge_type_id': 2, u'follower': None, u'country': u'United States', u'resource_state': 2, u'profile_medium': u'http://dgalywyr863hv.cloudfront.net/pictures/athletes/8/851/1/medium.jpg', u'id': 8, u'friend': None}, u'manual': False, u'start_latitude': 37.09, u'average_heartrate': 117.6, u'upload_id': 12, u'resource_state': 2, u'end_latlng': [37.09, -121.87], u'external_id': None, u'flagged': False}\n",
        "{u'athlete_count': 1, u'trainer': False, u'average_watts': 120.1, u'start_date_local': u'2008-04-10T17:00:00Z', u'private': False, u'commute': False, u'device_watts': False, u'timezone': u'(GMT-08:00) America/Los_Angeles', u'id': 212, u'location_city': u'San Francisco', u'location_country': None, u'start_longitude': -122.39, u'average_speed': 7.565, u'elapsed_time': 9037, u'kudos_count': 0, u'comment_count': 1, u'type': u'Ride', u'start_date': u'2008-04-11T00:00:00Z', u'map': {u'resource_state': 2, u'id': u'a212', u'summary_polyline': u'mhreFf}~iVub@kC{T~HsjAvhAsSv[vG~dAsDnAT~HdOvmA{J~CRzJwGfOpUjyCmC~k@iMrIeLve@wnCfTwLzEy@fJaInFgYwGwBsXyEsD}^vByEzOmMSuLgJa]zE_]r{@wBnZsI~R}\\\\n_@uSnKo{ArwBkWfJka@jz@kk@~p@gJjWgJbGvLkHlC_Sxr@ct@r]{w@jR{EfzAgxBv[kRj\\\\g^~HoPbBoZtSwo@tLoPnZwBzJfJrN?z@oK~CkCz^oAfEfEjC~WzYzEjHwGf@kHjM{EzgC{OpF{EtLod@bVsDf@cLgJnAjCkf@wV{{CSsIvGoAz@gOwQ_Sh@kHlPkHkMwpBdQk\\\\h}AcwA~p@?rIzJ'}, u'kilojoules': 822.7, u'distance': 51802.6, u'achievement_count': 0, u'moving_time': 6848, u'start_latlng': [37.78, -122.39], u'max_speed': 15.837, u'gear_id': u'b8', u'has_kudoed': False, u'photo_count': 0, u'location_state': u'CA', u'name': u\"Friday AM Gentlemen's Ride\", u'total_elevation_gain': 411.0, u'athlete': {u'profile': u'http://dgalywyr863hv.cloudfront.net/pictures/athletes/8/851/1/large.jpg', u'city': u'San Francisco', u'premium': True, u'firstname': u'David', u'state': u'CA', u'lastname': u'Belden', u'created_at': u'2009-08-18T00:46:20Z', u'updated_at': u'2014-11-24T06:44:28Z', u'sex': u'M', u'badge_type_id': 2, u'follower': None, u'country': u'United States', u'resource_state': 2, u'profile_medium': u'http://dgalywyr863hv.cloudfront.net/pictures/athletes/8/851/1/medium.jpg', u'id': 8, u'friend': None}, u'manual': False, u'start_latitude': 37.78, u'upload_id': 17, u'resource_state': 2, u'end_latlng': [37.78, -122.39], u'external_id': None, u'flagged': False}\n",
        "{u'athlete_count': 1, u'trainer': False, u'average_watts': 156.0, u'start_date_local': u'2008-04-12T17:00:00Z', u'private': False, u'commute': False, u'device_watts': False, u'timezone': u'(GMT-08:00) America/Los_Angeles', u'id': 213, u'location_city': u'Angwin', u'location_country': None, u'start_longitude': -122.44, u'average_speed': 5.245, u'elapsed_time': 6186, u'kudos_count': 2, u'comment_count': 0, u'type': u'Ride', u'start_date': u'2008-04-13T00:00:00Z', u'map': {u'resource_state': 2, u'id': u'a213', u'summary_polyline': u'sykjFviijVdQsXx@{YcG~M_S{Oct@vBqv@zTtt@wy@jHnFoF~Hf@nPfE{@hEo_@h\\\\sS~RchAo_@~MoAfJwVjW~WwBrInKaQcBkHnPwQ{@iO~MsI{E|ErSqKsIoArNvGfEiC~CqKcL?zT_I~H{JcBSoFvL?wGkHfc@gm@fYcG{OgEtDkCmCkM{JSmUzYhMwBoFvQgTzOgOcQbLoUmAoK`GoUjCvBjMwLnK{YbLnAjCkHhJfEd@sNve@cQpPrI?bLwy@bhAxYwL~\\\\bLsDve@cLzO{@b[~W{@zObQfJsNmAb[}JvQjC~C{E{@'}, u'kilojoules': 929.5, u'distance': 31260.6, u'achievement_count': 0, u'moving_time': 5960, u'start_latlng': [38.57, -122.44], u'max_speed': 15.745, u'gear_id': u'b9', u'has_kudoed': False, u'photo_count': 0, u'location_state': u'CA', u'name': u'Napa Valley Dirt Classic XC MTB Race', u'total_elevation_gain': 966.6, u'athlete': {u'profile': u'http://dgalywyr863hv.cloudfront.net/pictures/athletes/8/851/1/large.jpg', u'city': u'San Francisco', u'premium': True, u'firstname': u'David', u'state': u'CA', u'lastname': u'Belden', u'created_at': u'2009-08-18T00:46:20Z', u'updated_at': u'2014-11-24T06:44:28Z', u'sex': u'M', u'badge_type_id': 2, u'follower': None, u'country': u'United States', u'resource_state': 2, u'profile_medium': u'http://dgalywyr863hv.cloudfront.net/pictures/athletes/8/851/1/medium.jpg', u'id': 8, u'friend': None}, u'manual': False, u'start_latitude': 38.57, u'upload_id': 19, u'resource_state': 2, u'end_latlng': [38.57, -122.44], u'external_id': None, u'flagged': False}\n"
       ]
      }
     ],
     "prompt_number": 12
    },
    {
     "cell_type": "code",
     "collapsed": false,
     "input": [
      "#f = open (\"filename\",\"w\")"
     ],
     "language": "python",
     "metadata": {},
     "outputs": []
    }
   ],
   "metadata": {}
  }
 ]
}