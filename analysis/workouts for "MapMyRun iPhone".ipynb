{
 "metadata": {
  "name": "",
  "signature": "sha256:cc88c6f6d9079666172f7c483b7f275cda2173d22d97311f4fcaa81e25c906f2"
 },
 "nbformat": 3,
 "nbformat_minor": 0,
 "worksheets": [
  {
   "cells": [
    {
     "cell_type": "code",
     "collapsed": false,
     "input": [
      "runiph <- read.csv(\"runiphone.csv\")"
     ],
     "language": "python",
     "metadata": {},
     "outputs": [],
     "prompt_number": 1
    },
    {
     "cell_type": "code",
     "collapsed": false,
     "input": [
      "dim(runiph)"
     ],
     "language": "python",
     "metadata": {},
     "outputs": [
      {
       "metadata": {},
       "output_type": "pyout",
       "prompt_number": 2,
       "text": [
        "[1] 8838399      23"
       ]
      }
     ],
     "prompt_number": 2
    },
    {
     "cell_type": "code",
     "collapsed": false,
     "input": [
      "timeA <- runiph$workout.aggregates.active_time_total;\n",
      "timeE <- runiph$workout.aggregates.elapsed_time_total;\n",
      "dist <- as.double(runiph$workout.aggregates.distance_total);\n",
      "speed <- as.double(runiph$workout.aggregates.speed_avg);\n",
      "energy <- as.double(runiph$workout.aggregates.metabolic_energy_total);\n",
      "ver <- runiph$workout.is_verified;\n",
      "sel <- !(is.na(timeE)|is.na(timeA)|is.na(energy)|is.na(speed)|is.na(dist)|is.na(ver))\n"
     ],
     "language": "python",
     "metadata": {},
     "outputs": [],
     "prompt_number": 5
    },
    {
     "cell_type": "code",
     "collapsed": false,
     "input": [
      "mod <- lm(timeA~dist+ver,subs=sel&timeA>0&dist>0)"
     ],
     "language": "python",
     "metadata": {},
     "outputs": [],
     "prompt_number": 6
    },
    {
     "cell_type": "code",
     "collapsed": false,
     "input": [
      "summary(mod);\n",
      "anova(mod);"
     ],
     "language": "python",
     "metadata": {},
     "outputs": [
      {
       "metadata": {},
       "output_type": "pyout",
       "prompt_number": 7,
       "text": [
        "\n",
        "Call:\n",
        "lm(formula = timeA ~ dist + ver, subset = sel & timeA > 0 & dist > \n",
        "    0)\n",
        "\n",
        "Residuals:\n",
        "       Min         1Q     Median         3Q        Max \n",
        "-5.847e+04 -2.505e+04 -2.115e+04 -1.592e+04  1.288e+10 \n",
        "\n",
        "Coefficients:\n",
        "              Estimate Std. Error t value Pr(>|t|)   \n",
        "(Intercept)  2.450e+04  9.805e+03   2.499   0.0125 * \n",
        "dist         2.988e-02  1.049e-02   2.848   0.0044 **\n",
        "vertrue     -2.326e+04  9.053e+03  -2.569   0.0102 * \n",
        "---\n",
        "Signif. codes:  0 \u2018***\u2019 0.001 \u2018**\u2019 0.01 \u2018*\u2019 0.05 \u2018.\u2019 0.1 \u2018 \u2019 1\n",
        "\n",
        "Residual standard error: 8669000 on 8688755 degrees of freedom\n",
        "Multiple R-squared:  1.423e-06,\tAdjusted R-squared:  1.193e-06 \n",
        "F-statistic: 6.182 on 2 and 8688755 DF,  p-value: 0.002065\n"
       ]
      },
      {
       "metadata": {},
       "output_type": "pyout",
       "prompt_number": 7,
       "text": [
        "Analysis of Variance Table\n",
        "\n",
        "Response: timeA\n",
        "               Df     Sum Sq    Mean Sq F value  Pr(>F)  \n",
        "dist            1 4.3321e+14 4.3321e+14  5.7648 0.01635 *\n",
        "ver             1 4.9599e+14 4.9599e+14  6.6002 0.01020 *\n",
        "Residuals 8688755 6.5294e+20 7.5148e+13                  \n",
        "---\n",
        "Signif. codes:  0 \u2018***\u2019 0.001 \u2018**\u2019 0.01 \u2018*\u2019 0.05 \u2018.\u2019 0.1 \u2018 \u2019 1"
       ]
      }
     ],
     "prompt_number": 7
    },
    {
     "cell_type": "code",
     "collapsed": false,
     "input": [
      "mod1 <- lm(log(speed)~log(energy)+log(dist)+ver,subs=sel&dist>0&energy>0&speed>0)"
     ],
     "language": "python",
     "metadata": {},
     "outputs": [
      {
       "output_type": "stream",
       "stream": "stderr",
       "text": [
        "Warning message:\n",
        "In log(energy): NaNs produced"
       ]
      }
     ],
     "prompt_number": 8
    },
    {
     "cell_type": "code",
     "collapsed": false,
     "input": [
      "summary(mod1);\n",
      "anova(mod1);"
     ],
     "language": "python",
     "metadata": {},
     "outputs": [
      {
       "metadata": {},
       "output_type": "pyout",
       "prompt_number": 9,
       "text": [
        "\n",
        "Call:\n",
        "lm(formula = log(speed) ~ log(energy) + log(dist) + ver, subset = sel & \n",
        "    dist > 0 & energy > 0 & speed > 0)\n",
        "\n",
        "Residuals:\n",
        "     Min       1Q   Median       3Q      Max \n",
        "-13.6148  -0.4243  -0.0786   0.2924  12.9000 \n",
        "\n",
        "Coefficients:\n",
        "              Estimate Std. Error t value Pr(>|t|)    \n",
        "(Intercept) -2.4253484  0.0049280  -492.2   <2e-16 ***\n",
        "log(energy)  0.2279931  0.0003407   669.1   <2e-16 ***\n",
        "log(dist)    0.8920193  0.0001141  7821.3   <2e-16 ***\n",
        "vertrue      0.2476247  0.0009502   260.6   <2e-16 ***\n",
        "---\n",
        "Signif. codes:  0 \u2018***\u2019 0.001 \u2018**\u2019 0.01 \u2018*\u2019 0.05 \u2018.\u2019 0.1 \u2018 \u2019 1\n",
        "\n",
        "Residual standard error: 0.8384 on 8306930 degrees of freedom\n",
        "Multiple R-squared:  0.9026,\tAdjusted R-squared:  0.9026 \n",
        "F-statistic: 2.567e+07 on 3 and 8306930 DF,  p-value: < 2.2e-16\n"
       ]
      },
      {
       "metadata": {},
       "output_type": "pyout",
       "prompt_number": 9,
       "text": [
        "Analysis of Variance Table\n",
        "\n",
        "Response: log(speed)\n",
        "                 Df   Sum Sq  Mean Sq  F value    Pr(>F)    \n",
        "log(energy)       1  1693465  1693465  2409079 < 2.2e-16 ***\n",
        "log(dist)         1 52393371 52393371 74533447 < 2.2e-16 ***\n",
        "ver               1    47739    47739    67913 < 2.2e-16 ***\n",
        "Residuals   8306930  5839366        1                       \n",
        "---\n",
        "Signif. codes:  0 \u2018***\u2019 0.001 \u2018**\u2019 0.01 \u2018*\u2019 0.05 \u2018.\u2019 0.1 \u2018 \u2019 1"
       ]
      }
     ],
     "prompt_number": 9
    },
    {
     "cell_type": "code",
     "collapsed": false,
     "input": [],
     "language": "python",
     "metadata": {},
     "outputs": []
    }
   ],
   "metadata": {}
  }
 ]
}